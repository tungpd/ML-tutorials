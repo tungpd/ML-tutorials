{
 "cells": [
  {
   "cell_type": "code",
   "execution_count": 1,
   "metadata": {
    "id": "g14gwBiP38Nr"
   },
   "outputs": [],
   "source": [
    "import os\n",
    "import torch\n",
    "import numpy as np\n",
    "import random\n",
    "import torch.nn as nn\n",
    "import matplotlib.pyplot as plt\n",
    "from tqdm import tqdm\n",
    "from scipy.signal import welch\n",
    "import os, warnings, pickle\n",
    "from torch.autograd import Variable\n",
    "from torch.utils.data import DataLoader\n",
    "import pandas as pd\n",
    "from sklearn.model_selection import train_test_split\n",
    "from sklearn.metrics import mean_squared_error\n",
    "from sklearn.linear_model import LogisticRegression\n",
    "from sklearn.preprocessing import StandardScaler\n"
   ]
  },
  {
   "cell_type": "markdown",
   "metadata": {},
   "source": [
    "### Predefined params and utils"
   ]
  },
  {
   "cell_type": "code",
   "execution_count": 6,
   "metadata": {
    "id": "fC1gyQFh4TnL"
   },
   "outputs": [],
   "source": [
    "# Define channels used\n",
    "select_channels = ['ch1_LF5 - FpZ', 'ch2_OTE_L-FpZ', 'ch4_RF6-FpZ', 'ch5_OTE_R-FpZ']\n",
    "\n",
    "# Define frequency bands\n",
    "bands = {'Delta band':[0.5, 4], 'Alpha band': [8, 12],\n",
    "         'Beta band':[13, 30], 'Gamma band':[30, 100]}\n",
    "'''\n",
    "bands = {'Band {}'.format(i): [0.5 + i*2.0, 0.5 + (i + 1)*2.0] for i in range(10)}\n",
    "bands.update({'Band {}'.format(10 + i): [20.5 + i*10, 20.5 + (i + 1)*10] for i in range(5)})\n",
    "bands.update({'Band 15': [70.5, 100.0]})\n",
    "'''\n",
    "\n",
    "# Define sampling frequency\n",
    "sampling_rate = 125\n",
    "\n",
    "# Get all data from folder\n",
    "folder = '/data1/Test'\n",
    "ex_files = []\n",
    "'''\n",
    "ex_files = ['Copy of eeg_focus_6sessions_cut_S2.csv', \n",
    "            'Copy of eeg_focus_6sessions_cut_S4.csv', \n",
    "            'Copy of eeg_focus_6sessions_cut_S7.csv',\n",
    "           'Copy of eeg_focus_6sessions_cut_S8.csv']\n",
    "'''\n",
    "files = [f for f in os.listdir(folder) if f.endswith('.csv') and not f.endswith('.processed.csv') and f not in ex_files]\n",
    "\n",
    "# define data loader\n",
    "def load_data(data_path, window_size_in_seconds=24, data_n=10000, \n",
    "              time_domain_feature_num=128, \n",
    "              average_channels=False\n",
    "             ):\n",
    "  df = pd.read_csv(data_path)[select_channels]\n",
    "  # Define time vector\n",
    "  time = np.arange(len(df)) / sampling_rate\n",
    "  # Create DataFrame to store output\n",
    "  final_df = pd.DataFrame()\n",
    "  for channel in tqdm(range(len(select_channels)), desc='Processing'):\n",
    "      temp_df = df[select_channels[channel]].values\n",
    "      # Initialize arrays to store power in each band over time\n",
    "      power = np.zeros((df.shape[0], len(bands)))\n",
    "      for i in range(len(temp_df)):\n",
    "          frequencies, psd = welch(temp_df[:i+1], fs=sampling_rate, nperseg=min(1024, i+1))\n",
    "          for idx, (_, item) in enumerate(bands.items()):\n",
    "              power[i, idx] = np.trapz(psd[(frequencies >= item[0]) & (frequencies <= item[1])], frequencies[(frequencies >= item[0]) & (frequencies <= item[1])])\n",
    "      # Concat output\n",
    "      final_df = pd.concat([final_df, pd.DataFrame(power, columns=bands.keys())], axis=1)\n",
    "  df_scaled = (final_df - final_df.min()) / (final_df.max() - final_df.min())\n",
    "  # Calculate average values for each banch\n",
    "  if average_channels:\n",
    "      df_new = pd.DataFrame()\n",
    "      for key in bands.keys():\n",
    "          df_temp = df_scaled[key].mean(axis=1, skipna=False)\n",
    "          df_new[key] = df_temp\n",
    "  else:\n",
    "      df_new = df_scaled\n",
    "\n",
    "  # Create y vector with empty values\n",
    "  y = np.empty(shape=len(df_new))\n",
    "  y[:] = np.nan\n",
    "\n",
    "  # Assign output values represent for eyes closed duration (0) and immersion duration (1)\n",
    "  num_elements, step = data_n, int(len(df_new)/11)\n",
    "  step_1, step_2, step_3 = 2*step, 4*step, 6*step\n",
    "\n",
    "  # Generate random indices within the specified range\n",
    "  random_indices = np.random.choice(np.arange(0, step_1), num_elements, replace=True)\n",
    "  y[random_indices] = 0.0\n",
    "  random_indices = np.random.choice(np.arange(step_1, step_2), num_elements, replace=True)\n",
    "  y[random_indices] = 0.25\n",
    "  random_indices = np.random.choice(np.arange(step_2, step_3), num_elements, replace=True)\n",
    "  y[random_indices] = 0.75\n",
    "  random_indices = np.random.choice(np.arange(step_3, 11*step), num_elements, replace=True)\n",
    "  y[random_indices] = 1.0\n",
    "\n",
    "  # Assign y value vector original data\n",
    "  df_new['y'] = y\n",
    "\n",
    "  # add padding\n",
    "  if window_size_in_seconds > 0:\n",
    "      window_size = window_size_in_seconds*sampling_rate # seconds\n",
    "      padding = pd.DataFrame(np.zeros((window_size, df_new.shape[1])), columns=df_new.columns)\n",
    "      padding['y'] = np.NaN\n",
    "      df_new_padding = pd.concat([padding, df_new])\n",
    "      # X = np.array(df_new_padding.drop(columns=['y']))\n",
    "      X = df_new_padding.drop(columns=['y'])\n",
    "      y = np.array(df_new_padding['y'])\n",
    "      X_new_cols = X.shape[1]*time_domain_feature_num\n",
    "      X_new = []\n",
    "      for i in range(padding.shape[0], X.shape[0]):\n",
    "        _x = X[i - padding.shape[0] : i].sample(n=time_domain_feature_num, random_state=1)\n",
    "        if average_channels:\n",
    "            _x = np.array(_x).reshape(1, X_new_cols).tolist()[0]\n",
    "        else:\n",
    "            _x = _x.values\n",
    "            _x1 = []\n",
    "            for c in range(len(select_channels)):\n",
    "                _xc = _x[:, c:c + len(bands)].reshape(1, time_domain_feature_num*len(bands)).tolist()[0]\n",
    "                _x1.append(_xc)\n",
    "            _x = np.concatenate(_x1)\n",
    "        X_new.append(_x)\n",
    "      #X_new = np.array(X_new)\n",
    "      df_new = pd.DataFrame(X_new)\n",
    "      df_new['y'] = y[window_size:]\n",
    "  return df_new, df_scaled\n",
    "\n",
    "def create_datasets(window_size_in_seconds):\n",
    "    processed_data_files = [os.path.join(folder, f) for f in os.listdir(folder) if f.endswith(f'padding_{window_size_in_seconds}s.processed.csv') and f not in ex_files]\n",
    "    for f in processed_data_files:\n",
    "        print(f)\n",
    "\n",
    "# Predict\n",
    "def predict_dataset(loaded_model, data_f):\n",
    "    df_new = pd.read_csv(open(data_f))\n",
    "    scaler = StandardScaler()\n",
    "    y_pred = loaded_model.predict_proba(scaler.transform(np.array(df_new.drop(columns=['y']))))[:,1]\n",
    "    \n",
    "    # Scale between 0 and 100\n",
    "    xmax = 100\n",
    "    min_val, max_val = np.min(y_pred), np.max(y_pred)\n",
    "    scaled_arr = xmax * (y_pred - min_val) / (max_val - min_val)\\\n",
    "    \n",
    "    time = np.arange(len(df_new)) / sampling_rate\n",
    "    # Plot\n",
    "    plt.figure(figsize=(15, 6))\n",
    "    plt.plot(time, scaled_arr, label='Focus Level')\n",
    "    plt.title(f'{data_f}')\n",
    "    plt.xlabel('Time (s)')\n",
    "    plt.ylabel('Focus Score')\n",
    "    plt.grid(True)\n",
    "    plt.show()"
   ]
  },
  {
   "cell_type": "markdown",
   "metadata": {},
   "source": [
    "### Process raw data and extract features"
   ]
  },
  {
   "cell_type": "code",
   "execution_count": 44,
   "metadata": {
    "colab": {
     "base_uri": "https://localhost:8080/"
    },
    "id": "KxL8Puha1kcf",
    "outputId": "e0f565f3-2149-4bda-a643-1dd774bd5145"
   },
   "outputs": [
    {
     "name": "stdout",
     "output_type": "stream",
     "text": [
      "{'Delta band': [0.5, 4], 'Alpha band': [8, 12], 'Beta band': [13, 30], 'Gamma band': [30, 100]}\n",
      "['Copy of eeg_focus_6sessions_cut_S7.csv', 'Copy of eeg_focus_6sessions_cut_S8.csv', 'Copy of eeg_focus_6sessions_cut_S2.csv', 'Copy of eeg_focus_6sessions_cut_S4.csv', 'Copy of eeg_focus_6sessions_cut_S10.csv', 'Copy of eeg_focus_6sessions_cut_S13.csv', 'Copy of eeg_focus_6sessions_cut_S6.csv', 'Copy of eeg_focus_6sessions_cut_S9.csv', 'Copy of eeg_focus_6sessions_cut_S3.csv', 'Copy of eeg_focus_6sessions_cut_S1.csv']\n",
      "Data/Copy of eeg_focus_6sessions_cut_S7.csv\n"
     ]
    },
    {
     "name": "stderr",
     "output_type": "stream",
     "text": [
      "Processing: 100%|██████████| 4/4 [05:51<00:00, 87.90s/it]\n"
     ]
    },
    {
     "name": "stdout",
     "output_type": "stream",
     "text": [
      "save data to: Data/Copy of eeg_focus_6sessions_cut_S7.b4.padding_24s.processed.csv\n",
      "Data/Copy of eeg_focus_6sessions_cut_S8.csv\n"
     ]
    },
    {
     "name": "stderr",
     "output_type": "stream",
     "text": [
      "Processing: 100%|██████████| 4/4 [05:28<00:00, 82.09s/it]\n"
     ]
    },
    {
     "name": "stdout",
     "output_type": "stream",
     "text": [
      "save data to: Data/Copy of eeg_focus_6sessions_cut_S8.b4.padding_24s.processed.csv\n",
      "Data/Copy of eeg_focus_6sessions_cut_S2.csv\n"
     ]
    },
    {
     "name": "stderr",
     "output_type": "stream",
     "text": [
      "Processing: 100%|██████████| 4/4 [05:55<00:00, 88.89s/it]\n"
     ]
    },
    {
     "name": "stdout",
     "output_type": "stream",
     "text": [
      "save data to: Data/Copy of eeg_focus_6sessions_cut_S2.b4.padding_24s.processed.csv\n",
      "Data/Copy of eeg_focus_6sessions_cut_S4.csv\n"
     ]
    },
    {
     "name": "stderr",
     "output_type": "stream",
     "text": [
      "Processing: 100%|██████████| 4/4 [05:08<00:00, 77.15s/it]\n"
     ]
    },
    {
     "name": "stdout",
     "output_type": "stream",
     "text": [
      "save data to: Data/Copy of eeg_focus_6sessions_cut_S4.b4.padding_24s.processed.csv\n",
      "Data/Copy of eeg_focus_6sessions_cut_S10.csv\n"
     ]
    },
    {
     "name": "stderr",
     "output_type": "stream",
     "text": [
      "Processing: 100%|██████████| 4/4 [04:32<00:00, 68.06s/it]\n"
     ]
    },
    {
     "name": "stdout",
     "output_type": "stream",
     "text": [
      "save data to: Data/Copy of eeg_focus_6sessions_cut_S10.b4.padding_24s.processed.csv\n",
      "Data/Copy of eeg_focus_6sessions_cut_S13.csv\n"
     ]
    },
    {
     "name": "stderr",
     "output_type": "stream",
     "text": [
      "Processing: 100%|██████████| 4/4 [05:43<00:00, 85.94s/it]\n"
     ]
    },
    {
     "name": "stdout",
     "output_type": "stream",
     "text": [
      "save data to: Data/Copy of eeg_focus_6sessions_cut_S13.b4.padding_24s.processed.csv\n",
      "Data/Copy of eeg_focus_6sessions_cut_S6.csv\n"
     ]
    },
    {
     "name": "stderr",
     "output_type": "stream",
     "text": [
      "Processing: 100%|██████████| 4/4 [05:53<00:00, 88.32s/it]\n"
     ]
    },
    {
     "name": "stdout",
     "output_type": "stream",
     "text": [
      "save data to: Data/Copy of eeg_focus_6sessions_cut_S6.b4.padding_24s.processed.csv\n",
      "Data/Copy of eeg_focus_6sessions_cut_S9.csv\n"
     ]
    },
    {
     "name": "stderr",
     "output_type": "stream",
     "text": [
      "Processing: 100%|██████████| 4/4 [05:45<00:00, 86.50s/it]\n"
     ]
    },
    {
     "name": "stdout",
     "output_type": "stream",
     "text": [
      "save data to: Data/Copy of eeg_focus_6sessions_cut_S9.b4.padding_24s.processed.csv\n",
      "Data/Copy of eeg_focus_6sessions_cut_S3.csv\n"
     ]
    },
    {
     "name": "stderr",
     "output_type": "stream",
     "text": [
      "Processing: 100%|██████████| 4/4 [05:02<00:00, 75.58s/it]\n"
     ]
    },
    {
     "name": "stdout",
     "output_type": "stream",
     "text": [
      "save data to: Data/Copy of eeg_focus_6sessions_cut_S3.b4.padding_24s.processed.csv\n",
      "Data/Copy of eeg_focus_6sessions_cut_S1.csv\n"
     ]
    },
    {
     "name": "stderr",
     "output_type": "stream",
     "text": [
      "Processing: 100%|██████████| 4/4 [05:56<00:00, 89.18s/it]\n"
     ]
    },
    {
     "name": "stdout",
     "output_type": "stream",
     "text": [
      "save data to: Data/Copy of eeg_focus_6sessions_cut_S1.b4.padding_24s.processed.csv\n",
      "Done!\n"
     ]
    }
   ],
   "source": [
    "# Read all files in folder and do feature extraction\n",
    "print(bands)\n",
    "window_size_in_seconds = 24\n",
    "files = [f for f in os.listdir(folder) if f.endswith('.csv') and not f.endswith('.processed.csv') and f not in ex_files]\n",
    "# files = ['Copy of eeg_focus_6sessions_cut_S1.csv']\n",
    "print(files)\n",
    "for file in files:\n",
    "    path_ = os.path.join(folder, file)\n",
    "    print(path_)\n",
    "    df_new, df_scaled = load_data(path_, window_size_in_seconds)\n",
    "    # save_data\n",
    "    out_f = os.path.join(folder, file.rpartition('.csv')[0] + f'.b{len(bands)}.padding_{window_size_in_seconds}s.processed.csv')\n",
    "    df_new.to_csv(out_f, index=False, header=True)\n",
    "    print(f'save data to: {out_f}')\n",
    "print('Done!')\n",
    "# Build datasets for training and testing models\n"
   ]
  },
  {
   "cell_type": "code",
   "execution_count": 41,
   "metadata": {},
   "outputs": [
    {
     "data": {
      "text/html": [
       "<div>\n",
       "<style scoped>\n",
       "    .dataframe tbody tr th:only-of-type {\n",
       "        vertical-align: middle;\n",
       "    }\n",
       "\n",
       "    .dataframe tbody tr th {\n",
       "        vertical-align: top;\n",
       "    }\n",
       "\n",
       "    .dataframe thead th {\n",
       "        text-align: right;\n",
       "    }\n",
       "</style>\n",
       "<table border=\"1\" class=\"dataframe\">\n",
       "  <thead>\n",
       "    <tr style=\"text-align: right;\">\n",
       "      <th></th>\n",
       "      <th>Delta band</th>\n",
       "      <th>Delta band</th>\n",
       "      <th>Delta band</th>\n",
       "      <th>Delta band</th>\n",
       "    </tr>\n",
       "  </thead>\n",
       "  <tbody>\n",
       "    <tr>\n",
       "      <th>128</th>\n",
       "      <td>0.115719</td>\n",
       "      <td>0.044710</td>\n",
       "      <td>0.322455</td>\n",
       "      <td>0.010220</td>\n",
       "    </tr>\n",
       "    <tr>\n",
       "      <th>129</th>\n",
       "      <td>0.118998</td>\n",
       "      <td>0.045310</td>\n",
       "      <td>0.323740</td>\n",
       "      <td>0.010324</td>\n",
       "    </tr>\n",
       "    <tr>\n",
       "      <th>130</th>\n",
       "      <td>0.121623</td>\n",
       "      <td>0.045852</td>\n",
       "      <td>0.324553</td>\n",
       "      <td>0.010364</td>\n",
       "    </tr>\n",
       "    <tr>\n",
       "      <th>131</th>\n",
       "      <td>0.123969</td>\n",
       "      <td>0.046428</td>\n",
       "      <td>0.325150</td>\n",
       "      <td>0.010461</td>\n",
       "    </tr>\n",
       "    <tr>\n",
       "      <th>132</th>\n",
       "      <td>0.126846</td>\n",
       "      <td>0.046977</td>\n",
       "      <td>0.325268</td>\n",
       "      <td>0.010578</td>\n",
       "    </tr>\n",
       "    <tr>\n",
       "      <th>...</th>\n",
       "      <td>...</td>\n",
       "      <td>...</td>\n",
       "      <td>...</td>\n",
       "      <td>...</td>\n",
       "    </tr>\n",
       "    <tr>\n",
       "      <th>251</th>\n",
       "      <td>0.214886</td>\n",
       "      <td>0.022523</td>\n",
       "      <td>0.103839</td>\n",
       "      <td>0.013879</td>\n",
       "    </tr>\n",
       "    <tr>\n",
       "      <th>252</th>\n",
       "      <td>0.215087</td>\n",
       "      <td>0.022519</td>\n",
       "      <td>0.105256</td>\n",
       "      <td>0.013913</td>\n",
       "    </tr>\n",
       "    <tr>\n",
       "      <th>253</th>\n",
       "      <td>0.215257</td>\n",
       "      <td>0.022514</td>\n",
       "      <td>0.106723</td>\n",
       "      <td>0.013946</td>\n",
       "    </tr>\n",
       "    <tr>\n",
       "      <th>254</th>\n",
       "      <td>0.215397</td>\n",
       "      <td>0.022508</td>\n",
       "      <td>0.108241</td>\n",
       "      <td>0.013979</td>\n",
       "    </tr>\n",
       "    <tr>\n",
       "      <th>255</th>\n",
       "      <td>0.215506</td>\n",
       "      <td>0.022500</td>\n",
       "      <td>0.109810</td>\n",
       "      <td>0.014011</td>\n",
       "    </tr>\n",
       "  </tbody>\n",
       "</table>\n",
       "<p>128 rows × 4 columns</p>\n",
       "</div>"
      ],
      "text/plain": [
       "     Delta band  Delta band  Delta band  Delta band\n",
       "128    0.115719    0.044710    0.322455    0.010220\n",
       "129    0.118998    0.045310    0.323740    0.010324\n",
       "130    0.121623    0.045852    0.324553    0.010364\n",
       "131    0.123969    0.046428    0.325150    0.010461\n",
       "132    0.126846    0.046977    0.325268    0.010578\n",
       "..          ...         ...         ...         ...\n",
       "251    0.214886    0.022523    0.103839    0.013879\n",
       "252    0.215087    0.022519    0.105256    0.013913\n",
       "253    0.215257    0.022514    0.106723    0.013946\n",
       "254    0.215397    0.022508    0.108241    0.013979\n",
       "255    0.215506    0.022500    0.109810    0.014011\n",
       "\n",
       "[128 rows x 4 columns]"
      ]
     },
     "execution_count": 41,
     "metadata": {},
     "output_type": "execute_result"
    }
   ],
   "source": [
    "df_scaled[['Delta band']][128: 256]"
   ]
  },
  {
   "cell_type": "code",
   "execution_count": 42,
   "metadata": {},
   "outputs": [
    {
     "data": {
      "text/plain": [
       "array([0., 0., 0., 0., 0., 0., 0., 0., 0., 0., 0., 0., 0., 0., 0., 0., 0.,\n",
       "       0., 0., 0., 0., 0., 0., 0., 0., 0., 0., 0., 0., 0., 0., 0., 0., 0.,\n",
       "       0., 0., 0., 0., 0., 0., 0., 0., 0., 0., 0., 0., 0., 0., 0., 0., 0.,\n",
       "       0., 0., 0., 0., 0., 0., 0., 0., 0., 0., 0., 0., 0., 0., 0., 0., 0.,\n",
       "       0., 0., 0., 0., 0., 0., 0., 0., 0., 0., 0., 0., 0., 0., 0., 0., 0.,\n",
       "       0., 0., 0., 0., 0., 0., 0., 0., 0., 0., 0., 0., 0., 0., 0., 0., 0.,\n",
       "       0., 0., 0., 0., 0., 0., 0., 0., 0., 0., 0., 0., 0., 0., 0., 0., 0.,\n",
       "       0., 0., 0., 0., 0., 0., 0., 0., 0.])"
      ]
     },
     "execution_count": 42,
     "metadata": {},
     "output_type": "execute_result"
    }
   ],
   "source": [
    "df_new.drop(columns=['y']).values.reshape(-1, 4, 128, 4)[1, 0, :, 0]"
   ]
  },
  {
   "cell_type": "markdown",
   "metadata": {},
   "source": [
    "### Train Baseline model"
   ]
  },
  {
   "cell_type": "code",
   "execution_count": 6,
   "metadata": {
    "colab": {
     "base_uri": "https://localhost:8080/"
    },
    "id": "qGULK--r67Ep",
    "outputId": "1bcc46bb-c98b-49dc-d9dd-d89051da249e"
   },
   "outputs": [
    {
     "name": "stdout",
     "output_type": "stream",
     "text": [
      "Mean Squared Error 0.00023582171091159917\n"
     ]
    }
   ],
   "source": [
    "df_new = pd.read_csv(open('Data/Copy of eeg_focus_6sessions_cut_S1.b4.padding_0s.processed.csv'))\n",
    "# Generate data for building model\n",
    "# df_data = df_new[~df_new['y'].isnull()]\n",
    "df_data = df_new[(~df_new['y'].isnull()) & ((df_new['y'] < 0.01) | (df_new['y'] > 0.99))]\n",
    "df_data = df_data.astype({'y': int})\n",
    "X = np.array(df_data.drop(columns=['y']))\n",
    "y = np.array(df_data['y'])\n",
    "\n",
    "\n",
    "# Split data into training and testing sets\n",
    "X_train, X_test, y_train, y_test = train_test_split(X, y, test_size=0.2, random_state=42)\n",
    "\n",
    "# Scale data\n",
    "scaler = StandardScaler()\n",
    "X_normalized = scaler.fit_transform(X_train)\n",
    "\n",
    "# Train a linear regression model\n",
    "model = LogisticRegression(random_state=42)\n",
    "\n",
    "model.fit(X_normalized, y_train)\n",
    "# save model\n",
    "pickle.dump(model, open('model.pkl', 'wb'))\n",
    "# Evaluate the model\n",
    "y_pred = model.predict_proba(scaler.transform(X_test))[:,1]\n",
    "mse = mean_squared_error(y_true=y_test, y_pred=y_pred)\n",
    "print(\"Mean Squared Error\", mse)\n",
    "# y_pred"
   ]
  },
  {
   "cell_type": "markdown",
   "metadata": {
    "id": "L1hqm2w5uRN0"
   },
   "source": [
    "### Test on the train and test datasets"
   ]
  },
  {
   "cell_type": "code",
   "execution_count": 7,
   "metadata": {
    "colab": {
     "base_uri": "https://localhost:8080/",
     "height": 559
    },
    "id": "G5TwmPF3tAtY",
    "outputId": "25e5fc6f-f741-4306-e2bb-6ba9938fd55d"
   },
   "outputs": [
    {
     "data": {
      "text/plain": [
       "[]"
      ]
     },
     "execution_count": 7,
     "metadata": {},
     "output_type": "execute_result"
    },
    {
     "data": {
      "image/png": "[encoded data removed]",
      "text/plain": [
       "<Figure size 640x480 with 1 Axes>"
      ]
     },
     "metadata": {},
     "output_type": "display_data"
    }
   ],
   "source": [
    "# Load the model from disk\n",
    "loaded_model = pickle.load(open('/home/tungpd/Test/model.pkl', 'rb'))\n",
    "\n",
    "# Predict\n",
    "y_pred = loaded_model.predict_proba(scaler.transform(X))[:,1]\n",
    "df_data.loc[:,'y_pred'] = y_pred\n",
    "df_data[['y','y_pred']].plot()\n",
    "plt.plot()"
   ]
  },
  {
   "cell_type": "markdown",
   "metadata": {
    "id": "jrvjrhBaw5cS"
   },
   "source": [
    "#### Test on entirely new datasets"
   ]
  },
  {
   "cell_type": "code",
   "execution_count": 9,
   "metadata": {
    "id": "GtAZbikPw6wu"
   },
   "outputs": [
    {
     "name": "stdout",
     "output_type": "stream",
     "text": [
      "Data/Copy of eeg_focus_6sessions_cut_S8.b4.padding_0s.processed.csv\n"
     ]
    },
    {
     "ename": "NotFittedError",
     "evalue": "This StandardScaler instance is not fitted yet. Call 'fit' with appropriate arguments before using this estimator.",
     "output_type": "error",
     "traceback": [
      "\u001b[0;31m---------------------------------------------------------------------------\u001b[0m",
      "\u001b[0;31mNotFittedError\u001b[0m                            Traceback (most recent call last)",
      "Cell \u001b[0;32mIn[9], line 4\u001b[0m\n\u001b[1;32m      2\u001b[0m \u001b[38;5;28;01mfor\u001b[39;00m f \u001b[38;5;129;01min\u001b[39;00m processed_data_files:\n\u001b[1;32m      3\u001b[0m     \u001b[38;5;28mprint\u001b[39m(f)\n\u001b[0;32m----> 4\u001b[0m     \u001b[43mpredict_dataset\u001b[49m\u001b[43m(\u001b[49m\u001b[43mloaded_model\u001b[49m\u001b[43m,\u001b[49m\u001b[43m \u001b[49m\u001b[43mf\u001b[49m\u001b[43m)\u001b[49m\n",
      "Cell \u001b[0;32mIn[2], line 99\u001b[0m, in \u001b[0;36mpredict_dataset\u001b[0;34m(loaded_model, data_f)\u001b[0m\n\u001b[1;32m     97\u001b[0m df_new \u001b[38;5;241m=\u001b[39m pd\u001b[38;5;241m.\u001b[39mread_csv(\u001b[38;5;28mopen\u001b[39m(data_f))\n\u001b[1;32m     98\u001b[0m scaler \u001b[38;5;241m=\u001b[39m StandardScaler()\n\u001b[0;32m---> 99\u001b[0m y_pred \u001b[38;5;241m=\u001b[39m loaded_model\u001b[38;5;241m.\u001b[39mpredict_proba(\u001b[43mscaler\u001b[49m\u001b[38;5;241;43m.\u001b[39;49m\u001b[43mtransform\u001b[49m\u001b[43m(\u001b[49m\u001b[43mnp\u001b[49m\u001b[38;5;241;43m.\u001b[39;49m\u001b[43marray\u001b[49m\u001b[43m(\u001b[49m\u001b[43mdf_new\u001b[49m\u001b[38;5;241;43m.\u001b[39;49m\u001b[43mdrop\u001b[49m\u001b[43m(\u001b[49m\u001b[43mcolumns\u001b[49m\u001b[38;5;241;43m=\u001b[39;49m\u001b[43m[\u001b[49m\u001b[38;5;124;43m'\u001b[39;49m\u001b[38;5;124;43my\u001b[39;49m\u001b[38;5;124;43m'\u001b[39;49m\u001b[43m]\u001b[49m\u001b[43m)\u001b[49m\u001b[43m)\u001b[49m\u001b[43m)\u001b[49m)[:,\u001b[38;5;241m1\u001b[39m]\n\u001b[1;32m    101\u001b[0m \u001b[38;5;66;03m# Scale between 0 and 100\u001b[39;00m\n\u001b[1;32m    102\u001b[0m xmax \u001b[38;5;241m=\u001b[39m \u001b[38;5;241m100\u001b[39m\n",
      "File \u001b[0;32m~/.local/lib/python3.10/site-packages/sklearn/utils/_set_output.py:295\u001b[0m, in \u001b[0;36m_wrap_method_output.<locals>.wrapped\u001b[0;34m(self, X, *args, **kwargs)\u001b[0m\n\u001b[1;32m    293\u001b[0m \u001b[38;5;129m@wraps\u001b[39m(f)\n\u001b[1;32m    294\u001b[0m \u001b[38;5;28;01mdef\u001b[39;00m \u001b[38;5;21mwrapped\u001b[39m(\u001b[38;5;28mself\u001b[39m, X, \u001b[38;5;241m*\u001b[39margs, \u001b[38;5;241m*\u001b[39m\u001b[38;5;241m*\u001b[39mkwargs):\n\u001b[0;32m--> 295\u001b[0m     data_to_wrap \u001b[38;5;241m=\u001b[39m \u001b[43mf\u001b[49m\u001b[43m(\u001b[49m\u001b[38;5;28;43mself\u001b[39;49m\u001b[43m,\u001b[49m\u001b[43m \u001b[49m\u001b[43mX\u001b[49m\u001b[43m,\u001b[49m\u001b[43m \u001b[49m\u001b[38;5;241;43m*\u001b[39;49m\u001b[43margs\u001b[49m\u001b[43m,\u001b[49m\u001b[43m \u001b[49m\u001b[38;5;241;43m*\u001b[39;49m\u001b[38;5;241;43m*\u001b[39;49m\u001b[43mkwargs\u001b[49m\u001b[43m)\u001b[49m\n\u001b[1;32m    296\u001b[0m     \u001b[38;5;28;01mif\u001b[39;00m \u001b[38;5;28misinstance\u001b[39m(data_to_wrap, \u001b[38;5;28mtuple\u001b[39m):\n\u001b[1;32m    297\u001b[0m         \u001b[38;5;66;03m# only wrap the first output for cross decomposition\u001b[39;00m\n\u001b[1;32m    298\u001b[0m         return_tuple \u001b[38;5;241m=\u001b[39m (\n\u001b[1;32m    299\u001b[0m             _wrap_data_with_container(method, data_to_wrap[\u001b[38;5;241m0\u001b[39m], X, \u001b[38;5;28mself\u001b[39m),\n\u001b[1;32m    300\u001b[0m             \u001b[38;5;241m*\u001b[39mdata_to_wrap[\u001b[38;5;241m1\u001b[39m:],\n\u001b[1;32m    301\u001b[0m         )\n",
      "File \u001b[0;32m~/.local/lib/python3.10/site-packages/sklearn/preprocessing/_data.py:1040\u001b[0m, in \u001b[0;36mStandardScaler.transform\u001b[0;34m(self, X, copy)\u001b[0m\n\u001b[1;32m   1025\u001b[0m \u001b[38;5;28;01mdef\u001b[39;00m \u001b[38;5;21mtransform\u001b[39m(\u001b[38;5;28mself\u001b[39m, X, copy\u001b[38;5;241m=\u001b[39m\u001b[38;5;28;01mNone\u001b[39;00m):\n\u001b[1;32m   1026\u001b[0m \u001b[38;5;250m    \u001b[39m\u001b[38;5;124;03m\"\"\"Perform standardization by centering and scaling.\u001b[39;00m\n\u001b[1;32m   1027\u001b[0m \n\u001b[1;32m   1028\u001b[0m \u001b[38;5;124;03m    Parameters\u001b[39;00m\n\u001b[0;32m   (...)\u001b[0m\n\u001b[1;32m   1038\u001b[0m \u001b[38;5;124;03m        Transformed array.\u001b[39;00m\n\u001b[1;32m   1039\u001b[0m \u001b[38;5;124;03m    \"\"\"\u001b[39;00m\n\u001b[0;32m-> 1040\u001b[0m     \u001b[43mcheck_is_fitted\u001b[49m\u001b[43m(\u001b[49m\u001b[38;5;28;43mself\u001b[39;49m\u001b[43m)\u001b[49m\n\u001b[1;32m   1042\u001b[0m     copy \u001b[38;5;241m=\u001b[39m copy \u001b[38;5;28;01mif\u001b[39;00m copy \u001b[38;5;129;01mis\u001b[39;00m \u001b[38;5;129;01mnot\u001b[39;00m \u001b[38;5;28;01mNone\u001b[39;00m \u001b[38;5;28;01melse\u001b[39;00m \u001b[38;5;28mself\u001b[39m\u001b[38;5;241m.\u001b[39mcopy\n\u001b[1;32m   1043\u001b[0m     X \u001b[38;5;241m=\u001b[39m \u001b[38;5;28mself\u001b[39m\u001b[38;5;241m.\u001b[39m_validate_data(\n\u001b[1;32m   1044\u001b[0m         X,\n\u001b[1;32m   1045\u001b[0m         reset\u001b[38;5;241m=\u001b[39m\u001b[38;5;28;01mFalse\u001b[39;00m,\n\u001b[0;32m   (...)\u001b[0m\n\u001b[1;32m   1049\u001b[0m         force_all_finite\u001b[38;5;241m=\u001b[39m\u001b[38;5;124m\"\u001b[39m\u001b[38;5;124mallow-nan\u001b[39m\u001b[38;5;124m\"\u001b[39m,\n\u001b[1;32m   1050\u001b[0m     )\n",
      "File \u001b[0;32m~/.local/lib/python3.10/site-packages/sklearn/utils/validation.py:1622\u001b[0m, in \u001b[0;36mcheck_is_fitted\u001b[0;34m(estimator, attributes, msg, all_or_any)\u001b[0m\n\u001b[1;32m   1619\u001b[0m     \u001b[38;5;28;01mraise\u001b[39;00m \u001b[38;5;167;01mTypeError\u001b[39;00m(\u001b[38;5;124m\"\u001b[39m\u001b[38;5;132;01m%s\u001b[39;00m\u001b[38;5;124m is not an estimator instance.\u001b[39m\u001b[38;5;124m\"\u001b[39m \u001b[38;5;241m%\u001b[39m (estimator))\n\u001b[1;32m   1621\u001b[0m \u001b[38;5;28;01mif\u001b[39;00m \u001b[38;5;129;01mnot\u001b[39;00m _is_fitted(estimator, attributes, all_or_any):\n\u001b[0;32m-> 1622\u001b[0m     \u001b[38;5;28;01mraise\u001b[39;00m NotFittedError(msg \u001b[38;5;241m%\u001b[39m {\u001b[38;5;124m\"\u001b[39m\u001b[38;5;124mname\u001b[39m\u001b[38;5;124m\"\u001b[39m: \u001b[38;5;28mtype\u001b[39m(estimator)\u001b[38;5;241m.\u001b[39m\u001b[38;5;18m__name__\u001b[39m})\n",
      "\u001b[0;31mNotFittedError\u001b[0m: This StandardScaler instance is not fitted yet. Call 'fit' with appropriate arguments before using this estimator."
     ]
    }
   ],
   "source": [
    "processed_data_files = [os.path.join(folder, f) for f in os.listdir(folder) if f.endswith('padding_0s.processed.csv') and f not in ex_files]\n",
    "for f in processed_data_files:\n",
    "    print(f)\n",
    "    predict_dataset(loaded_model, f)"
   ]
  },
  {
   "cell_type": "code",
   "execution_count": null,
   "metadata": {},
   "outputs": [],
   "source": []
  }
 ],
 "metadata": {
  "colab": {
   "provenance": []
  },
  "kernelspec": {
   "display_name": "Python 3 (ipykernel)",
   "language": "python",
   "name": "python3"
  },
  "language_info": {
   "codemirror_mode": {
    "name": "ipython",
    "version": 3
   },
   "file_extension": ".py",
   "mimetype": "text/x-python",
   "name": "python",
   "nbconvert_exporter": "python",
   "pygments_lexer": "ipython3",
   "version": "3.10.12"
  }
 },
 "nbformat": 4,
 "nbformat_minor": 4
}
