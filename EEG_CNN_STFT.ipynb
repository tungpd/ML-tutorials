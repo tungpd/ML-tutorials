{
 "cells": [
  {
   "cell_type": "code",
   "execution_count": 2,
   "id": "6c66e287-3961-4d18-820a-2148e72538ab",
   "metadata": {},
   "outputs": [],
   "source": [
    "import os\n",
    "import torch\n",
    "import numpy as np\n",
    "import random\n",
    "import torch.nn as nn\n",
    "from scipy.fft import fft\n",
    "from scipy.signal import stft\n",
    "import matplotlib.pyplot as plt\n",
    "from tqdm import tqdm\n",
    "from scipy.signal import welch\n",
    "import os, warnings, pickle\n",
    "from torch.autograd import Variable\n",
    "from torch.utils.data import DataLoader\n",
    "import pandas as pd\n",
    "from sklearn.model_selection import train_test_split\n",
    "from sklearn.metrics import mean_squared_error\n",
    "from sklearn.linear_model import LogisticRegression\n",
    "from sklearn.preprocessing import StandardScaler\n",
    "import csv\n",
    "from collections import OrderedDict\n"
   ]
  },
  {
   "cell_type": "markdown",
   "id": "df11f2a7-e34a-430d-a0ad-2f309ea53733",
   "metadata": {},
   "source": [
    "### Preprocess data\n"
   ]
  },
  {
   "cell_type": "code",
   "execution_count": null,
   "id": "6ad8f4ed-3619-428f-bbe0-7b816f059da0",
   "metadata": {},
   "outputs": [
    {
     "name": "stdout",
     "output_type": "stream",
     "text": [
      "input_f: Copy of eeg_focus_6sessions_cut_S13.csv\n"
     ]
    },
    {
     "name": "stderr",
     "output_type": "stream",
     "text": [
      "Processing Copy of eeg_focus_6sessions_cut_S13.csv: 100%|██████████| 83746/83746 [07:46<00:00, 179.42it/s]\n"
     ]
    },
    {
     "name": "stdout",
     "output_type": "stream",
     "text": [
      "save to: /data1/Test/Copy of eeg_focus_6sessions_cut_S13feature_n4096.window_size_8s.processed.csv\n",
      "input_f: Copy of eeg_focus_6sessions_cut_S8.csv\n"
     ]
    },
    {
     "name": "stderr",
     "output_type": "stream",
     "text": [
      "Processing Copy of eeg_focus_6sessions_cut_S8.csv: 100%|██████████| 78638/78638 [08:14<00:00, 158.92it/s]\n"
     ]
    },
    {
     "name": "stdout",
     "output_type": "stream",
     "text": [
      "save to: /data1/Test/Copy of eeg_focus_6sessions_cut_S8feature_n4096.window_size_8s.processed.csv\n",
      "input_f: Copy of eeg_focus_6sessions_cut_S3.csv\n"
     ]
    },
    {
     "name": "stderr",
     "output_type": "stream",
     "text": [
      "Processing Copy of eeg_focus_6sessions_cut_S3.csv: 100%|██████████| 77889/77889 [07:33<00:00, 171.84it/s]\n"
     ]
    },
    {
     "name": "stdout",
     "output_type": "stream",
     "text": [
      "save to: /data1/Test/Copy of eeg_focus_6sessions_cut_S3feature_n4096.window_size_8s.processed.csv\n",
      "input_f: Copy of eeg_focus_6sessions_cut_S4.csv\n"
     ]
    },
    {
     "name": "stderr",
     "output_type": "stream",
     "text": [
      "Processing Copy of eeg_focus_6sessions_cut_S4.csv: 100%|██████████| 78829/78829 [07:35<00:00, 173.20it/s]\n"
     ]
    },
    {
     "name": "stdout",
     "output_type": "stream",
     "text": [
      "save to: /data1/Test/Copy of eeg_focus_6sessions_cut_S4feature_n4096.window_size_8s.processed.csv\n",
      "input_f: Copy of eeg_focus_6sessions_cut_S10.csv\n"
     ]
    },
    {
     "name": "stderr",
     "output_type": "stream",
     "text": [
      "Processing Copy of eeg_focus_6sessions_cut_S10.csv: 100%|██████████| 73289/73289 [07:41<00:00, 158.85it/s]\n"
     ]
    },
    {
     "name": "stdout",
     "output_type": "stream",
     "text": [
      "save to: /data1/Test/Copy of eeg_focus_6sessions_cut_S10feature_n4096.window_size_8s.processed.csv\n",
      "input_f: Copy of eeg_focus_6sessions_cut_S6.csv\n"
     ]
    },
    {
     "name": "stderr",
     "output_type": "stream",
     "text": [
      "Processing Copy of eeg_focus_6sessions_cut_S6.csv: 100%|█████████▉| 84712/84800 [08:57<00:00, 137.03it/s]/tmp/ipykernel_372782/2854363979.py:49: RuntimeWarning: divide by zero encountered in log10\n",
      "  r = 20 * np.log10(np.abs(Zxx)) # real values\n",
      "Processing Copy of eeg_focus_6sessions_cut_S6.csv: 100%|██████████| 84800/84800 [08:58<00:00, 157.61it/s]\n"
     ]
    },
    {
     "name": "stdout",
     "output_type": "stream",
     "text": [
      "save to: /data1/Test/Copy of eeg_focus_6sessions_cut_S6feature_n4096.window_size_8s.processed.csv\n",
      "input_f: Copy of eeg_focus_6sessions_cut_S9.csv\n"
     ]
    },
    {
     "name": "stderr",
     "output_type": "stream",
     "text": [
      "Processing Copy of eeg_focus_6sessions_cut_S9.csv: 100%|██████████| 83758/83758 [10:10<00:00, 137.17it/s]\n"
     ]
    },
    {
     "name": "stdout",
     "output_type": "stream",
     "text": [
      "save to: /data1/Test/Copy of eeg_focus_6sessions_cut_S9feature_n4096.window_size_8s.processed.csv\n",
      "input_f: Copy of eeg_focus_6sessions_cut_S7.csv\n"
     ]
    },
    {
     "name": "stderr",
     "output_type": "stream",
     "text": [
      "Processing Copy of eeg_focus_6sessions_cut_S7.csv: 100%|██████████| 83192/83192 [07:46<00:00, 178.25it/s]\n"
     ]
    },
    {
     "name": "stdout",
     "output_type": "stream",
     "text": [
      "save to: /data1/Test/Copy of eeg_focus_6sessions_cut_S7feature_n4096.window_size_8s.processed.csv\n",
      "input_f: Copy of eeg_focus_6sessions_cut_S1.csv\n"
     ]
    },
    {
     "name": "stderr",
     "output_type": "stream",
     "text": [
      "Processing Copy of eeg_focus_6sessions_cut_S1.csv: 100%|██████████| 85057/85057 [07:56<00:00, 178.41it/s]\n"
     ]
    },
    {
     "name": "stdout",
     "output_type": "stream",
     "text": [
      "save to: /data1/Test/Copy of eeg_focus_6sessions_cut_S1feature_n4096.window_size_8s.processed.csv\n",
      "input_f: Copy of eeg_focus_6sessions_cut_S2.csv\n"
     ]
    },
    {
     "name": "stderr",
     "output_type": "stream",
     "text": [
      "Processing Copy of eeg_focus_6sessions_cut_S2.csv:  35%|███▌      | 29780/84850 [02:46<05:03, 181.37it/s]"
     ]
    }
   ],
   "source": [
    "select_channels = ['ch1_LF5 - FpZ', 'ch2_OTE_L-FpZ', 'ch4_RF6-FpZ', 'ch5_OTE_R-FpZ']\n",
    "\n",
    "sampling_rate = 125\n",
    "nperseg = 64\n",
    "data_n = 1000\n",
    "window_size_in_seconds = 8\n",
    "window_size = window_size_in_seconds*sampling_rate\n",
    "data_dir = '/data1/Test'\n",
    "ex_files = []\n",
    "start_idx = 32*sampling_rate\n",
    "step = 1\n",
    "files = [f for f in os.listdir(data_dir) if f.endswith('.csv') and not f.endswith('.processed.csv') and f not in ex_files]\n",
    "\n",
    "# Define channels used\n",
    "for f in files:\n",
    "    \n",
    "    csv_w = None\n",
    "    out_f = ''\n",
    "    print('input_f: %s'%f)\n",
    "    df = pd.read_csv(os.path.join(data_dir, f))[select_channels]\n",
    "    padding = np.random.randint(df.min().min(), df.max().max(), size=(window_size, df.shape[1]))\n",
    "    padding = pd.DataFrame(padding, columns=df.columns)\n",
    "    df = pd.concat([padding, df], ignore_index=True)\n",
    "    \n",
    "    # Create y vector with empty values\n",
    "    y = np.empty(shape=len(df))\n",
    "    y[:] = np.nan\n",
    "    # calulate labels\n",
    "    num_elements, l_step = data_n, int(len(df)/11)\n",
    "    random_indices = np.random.choice(np.arange(0, 2*l_step + window_size), 2*num_elements, replace=True)\n",
    "    y[random_indices] = 0.0\n",
    "    random_indices = np.random.choice(np.arange(2*l_step + window_size, 4*l_step + window_size), num_elements, replace=True)\n",
    "    y[random_indices] = 0.25\n",
    "    random_indices = np.random.choice(np.arange(4*l_step + window_size, 6*l_step + window_size), num_elements, replace=True)\n",
    "    y[random_indices] = 0.75\n",
    "    random_indices = np.random.choice(np.arange(6*l_step + window_size, 11*l_step), 2*num_elements, replace=True)\n",
    "    y[random_indices] = 1.0\n",
    "    df['y'] = y\n",
    "    samples = []\n",
    "    for i in tqdm(range(window_size, len(df), step), desc=f'Processing {f}'):\n",
    "        stft_features_list = []\n",
    "        y = df['y'][i]\n",
    "        for channel in select_channels:\n",
    "            start_idx = i - window_size\n",
    "            signal = df[channel].values[start_idx:i]\n",
    "            # Short-time Fourier Transform\n",
    "            _, _, Zxx = stft(signal, fs=sampling_rate, nperseg=nperseg)\n",
    "            Zxx = Zxx[1:, 1:] # Get 32x32 feature map\n",
    "            r = 20 * np.log10(np.abs(Zxx)) # real values\n",
    "            stft_features_list.append(r)\n",
    "        stft_features = np.stack(stft_features_list, axis=0).reshape(1, len(select_channels)*32*32).tolist()[0]\n",
    "        feature_n = len(stft_features)\n",
    "        # stft_features.append(y)\n",
    "        stft_features_dict = OrderedDict()\n",
    "        for i, v in enumerate(stft_features):\n",
    "            stft_features_dict[str(i)] = v\n",
    "        stft_features_dict['y'] = y\n",
    "        if csv_w is None:\n",
    "            out_f = os.path.join(data_dir, f.rpartition('.csv')[0] + f'feature_n{feature_n}.window_size_{window_size_in_seconds}s.processed.csv')\n",
    "            csv_w = csv.DictWriter(open(out_f, 'w'), fieldnames=list(stft_features_dict.keys()))\n",
    "            csv_w.writeheader()\n",
    "        csv_w.writerow(stft_features_dict)\n",
    "        # samples.append(stft_features)\n",
    "    # df = pd.DataFrame(samples)\n",
    "    # df.columns = [*df.columns[:-1], 'y']\n",
    "    # feature_n = df.shape[1] - 1\n",
    "    \n",
    "    # df.to_csv(out_f, index=False, header=True)\n",
    "    print('save to: %s'%out_f)\n",
    "    # print(df.head(), df.shape)\n",
    "    "
   ]
  },
  {
   "cell_type": "code",
   "execution_count": null,
   "id": "472d3e44-781c-4728-87e2-9dd6845dcb3f",
   "metadata": {},
   "outputs": [],
   "source": [
    "df = pd.read_csv('Data/Copy of eeg_focus_6sessions_cut_S2.csv')[select_channels]\n",
    "df\n",
    "df['y'] = 1\n",
    "df['y'][100]\n",
    "len(df['y'])"
   ]
  },
  {
   "cell_type": "code",
   "execution_count": null,
   "id": "a71a23be-648a-4fc0-b1e5-4d54a3b8f7af",
   "metadata": {},
   "outputs": [],
   "source": []
  }
 ],
 "metadata": {
  "kernelspec": {
   "display_name": "Python 3 (ipykernel)",
   "language": "python",
   "name": "python3"
  },
  "language_info": {
   "codemirror_mode": {
    "name": "ipython",
    "version": 3
   },
   "file_extension": ".py",
   "mimetype": "text/x-python",
   "name": "python",
   "nbconvert_exporter": "python",
   "pygments_lexer": "ipython3",
   "version": "3.10.12"
  }
 },
 "nbformat": 4,
 "nbformat_minor": 5
}
